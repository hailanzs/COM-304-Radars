{
 "cells": [
  {
   "cell_type": "markdown",
   "metadata": {},
   "source": [
    "<h1> HW 1: Radar Imaging Part 1</h1>\n",
    "In this lab assignment, we will implement a 3D mmWave Radar Imaging system. Before\n",
    "starting the lab, please review the class lectures. We provide the data for students to work\n",
    "on.\n",
    "\n",
    "This lab consists of several tasks. The students are provided with some skeleton code for\n",
    "loading the lab data in the correct format and plotting the output radar heatmaps/point\n",
    "clouds for each task. The Jupyter notebook holds all of the relevant code blocks you will need to implement.\n",
    "\n",
    "You must submit the lab file where you include the code, figures, and answer\n",
    "the questions in each task.\n",
    "\n",
    "The format of the mmWave radar data is as follows. The radar used has 1 transmitter and 4 receivers which is laid out linearly on the x axis (the transmitters are placed directly to the side of the receivers).\n",
    "The radar data is collected by a 2D Synthetic Aperture Radar (SAR) with a size of 80 by 369 at one-wavelength by quarter-wavelength (i.e. the total size of the scanning area is 0.38 cm by 0.35 cm at 77 GHz). The 2D antenna array\n",
    "is placed on the X-Z plane, as shown in Fig. 1. <i> NOTE: This is different than the coordinate system introduced in the lecture.</i> \n",
    "\n",
    "The mmWave radar has a center frequency of\n",
    "77 GHz and it transmits Frequency Modulated Continuous Wave (FMCW) radar waveform\n",
    "with 3.5991 GHz bandwidth (sweeps from 77 GHz with a slope of 70.295 MHz/us). \n",
    "The FMCW beat frequency signal (output of mixing reflected chirp with reference\n",
    "chirp) is sampled 512 times at a sampling rate of 10,000 ksps. Therefore, the input mmWave radar data is a 3D matrix\n",
    "with a of size 80 $\\times$ 369 $\\times$ 4 $\\times$ 512. The first dimension is the first dimension is\n",
    "horizontal (x axis) of the antenna array (in this case 80 steps by 4 receivers = 320), the second dimension is the vertical (z axis) of the\n",
    "antenna array (369 in this case), and the third dimension is the number of data samples we have (512). \n",
    "The index of each antenna element can also be found in Fig. 1. We provide the x-position of the TX antenna (ant_pos) and  the x and z positions of the RX antenna elements (x_ant_pos and z_ant_pos). Where the transmitter will have the same z-position as each of the four Rx's it transmits to. \n",
    "\n",
    "Note on coding: You can change input/outputs from functions as you please as well as any plotting code, however, the final plotted image is what we will look at for grading. \n",
    "Additionally, we recommend that you \n",
    "comment your code to make it easier for partial credit to be awarded.\n",
    "\n",
    "The data and details are available at https://drive.google.com/drive/folders/1nlwuhJWaXnyrXdVq2ced3E1wyYrFIIHH?usp=sharing.\n",
    "A subset of what the results might look like are shown in example_outputs.pdf, however, this is of different data and not necessarily all of the plots we expect. These examples are simply to show an example of what you might expect. \n",
    "\n",
    "This lab is broken into three parts:\n",
    "1. 1D Ranging using FMCW Radar Waveform\n",
    "2. 2D Imaging using 1D Antenna Array\n",
    "3. 3D Imaging using 2D Antenna Array"
   ]
  },
  {
   "cell_type": "markdown",
   "metadata": {},
   "source": [
    "![title](imgs/coordinate_system.png)"
   ]
  },
  {
   "cell_type": "markdown",
   "metadata": {},
   "source": [
    "<h3> 1. 1D Ranging using FMCW Radar Waveform </h3>\n",
    "\n",
    "In this task, you will implement the radar signal processing for FMCW radar waveform for\n",
    "unidirectional ranging.\n",
    "The code for this task should be written below in the function: *uni_ranging()*. We provide you\n",
    "the code to load the radar data in the right format in this file. As results, you need to include\n",
    "the following in your report.\n",
    "\n",
    "1. What is the range resolution of the FMCW radar waveform we provide?\n",
    "2. Generate a figure of reflected signal power vs distance for the beat signal\n",
    "on any one antenna element. Include this figure in the report.\n",
    "\n",
    "Note: The ToF measured by our FMCW radar includes the propagation delay over the air and\n",
    "inside the circuit. You need to compensate for the internal propagation in the circuit,\n",
    "which is 0.15 meters in length to\n",
    "get the ToF over the air. The internal propagation delay in time can be obtained by\n",
    "dividing by speed of light."
   ]
  },
  {
   "cell_type": "markdown",
   "metadata": {},
   "source": [
    "Write your ranging function below."
   ]
  },
  {
   "cell_type": "code",
   "execution_count": null,
   "metadata": {},
   "outputs": [],
   "source": [
    "######## Implement unidirectional ranging. #############\n",
    "# TODO: add your code here\n",
    "def uni_ranging(data, radar_params):\n",
    "    '''Performs unidirectional ranging.\n",
    "    \n",
    "    Paramters: \n",
    "    - data: Raw SAR data (size: (adc_samples))\n",
    "\n",
    "    Returns:\n",
    "    - rdata: array of power at every range \n",
    "    - dist: array of distances from aperture \n",
    "    '''\n",
    "    # put your implementation here\n",
    "    \n",
    "    return "
   ]
  },
  {
   "cell_type": "code",
   "execution_count": null,
   "metadata": {},
   "outputs": [],
   "source": [
    "import numpy as np\n",
    "import matplotlib.pyplot as plt\n",
    "import os\n",
    "import scipy\n",
    "import scipy.io as sio\n",
    "import time\n",
    "import utils"
   ]
  },
  {
   "cell_type": "markdown",
   "metadata": {},
   "source": [
    "First we load the data and define the radar parameters below."
   ]
  },
  {
   "cell_type": "code",
   "execution_count": null,
   "metadata": {},
   "outputs": [],
   "source": [
    "# TODO: Put the *path* to the data \n",
    "data_path = r\"/Users/shanbhag/Documents/School/comm-proj-radars/given_data/data_003.mat\"\n",
    "\n",
    "# loading data that is given\n",
    "\"\"\"\n",
    "    raw_data: is the raw radar data (after mixing) of size (num_x_stp x num_rx, num_z_stp, adc_samples)\n",
    "    radar_params: is a dictionary with radar and position parameters: 'sample_rate', 'num_samples', 'slope', 'lm'(lambda), 'num_x_stp', 'num_z_stp', 'num_tx', 'num_rx', 'adc_samples' \n",
    "\"\"\"\n",
    "radar_params, raw_data = utils.load_raw_data(data_path)"
   ]
  },
  {
   "cell_type": "markdown",
   "metadata": {},
   "source": [
    "Run your code here."
   ]
  },
  {
   "cell_type": "code",
   "execution_count": null,
   "metadata": {},
   "outputs": [],
   "source": [
    "uni_ranging()"
   ]
  },
  {
   "cell_type": "markdown",
   "metadata": {},
   "source": [
    "Generate figure of the reflected signal power vs range of the reflector (distance between\n",
    "the radar and the reflector) after compensating for the internal propagation delay in\n",
    "the circuit. Plot this figure for the beat signal of any\n",
    "one antenna element. Since selecting a single antenna out of the entire array may give different values based on the placement of the radar relative to the reflector,\n",
    "you can play around with which antenna you select, as some will show clear peaks, and some will be noiser."
   ]
  },
  {
   "cell_type": "code",
   "execution_count": null,
   "metadata": {},
   "outputs": [],
   "source": [
    "# TODO: Plot figures below"
   ]
  },
  {
   "cell_type": "markdown",
   "metadata": {},
   "source": [
    "<h1> HW 1: Radar Imaging Part 2</h1>"
   ]
  },
  {
   "cell_type": "markdown",
   "metadata": {},
   "source": [
    "<h3>2D Imaging using 1D Antenna Array </h3>\n",
    "\n",
    "In this task, our goal is to implement Algorithm 1 (beamforming) taught in class for a\n",
    "1D antenna array. You will generate the 2D radar heatmap (bird eye view) by estimating the reflected signal\n",
    "power from azimuth angles $\\phi$ between 60 and 130 degrees with a resolution of 1. The definition for $\\phi$ can be found in Fig. 1 shown in task1.\n",
    "The code for this task should be written in the function *beamform_1d*. We provide you the\n",
    "code to load the radar data in the right format and to plot the 2D horizontal plane heatmap\n",
    "in this file. \n",
    "\n",
    "As results, you need to include the following in your turned in file:\n",
    "1. Include the 2D heatmap you generate. For the 1D antenna array signal, you can take\n",
    "the beat signals from any one horizontal row of antenna elements in the 2D grid (aka select one z index to use)."
   ]
  },
  {
   "cell_type": "markdown",
   "metadata": {},
   "source": [
    "Implement your 1D Beamforming algortihm."
   ]
  },
  {
   "cell_type": "code",
   "execution_count": null,
   "metadata": {},
   "outputs": [],
   "source": [
    "# TODO: Implement the function\n",
    "################# Change the values based on how much of the azimuth angles you want to see and the resolution ##################\n",
    "# Define field of view in degrees that you want to process in theta \n",
    "def beamform_1d(beat_freq_data, phi_s, phi_e, phi_res, locs, radar_params):\n",
    "    \"\"\"\n",
    "    Performs 1D beamforming along the azimuth (horizontal) dimension, this results in a bird eye view image.\n",
    "\n",
    "    Paramters:\n",
    "    - beat_freq_data: beat data AKA the range FFT (size: num_x_stps * num TX * num RX, num ADC samples)\n",
    "    - phi_s: first angle that you want to start computing \n",
    "    - phi_e: last angle that you want to compute \n",
    "    - phi_res: resolution of the angles you want to compute\n",
    "    - locs: antenna locations\n",
    "    - radar_parms: radar_params if needed \n",
    "\n",
    "    Returns:\n",
    "    - sph_pwr: beamformed result (size: num_phi x num adc samples)\n",
    "    - phi: the array of the angles computed\n",
    "    \"\"\"\n",
    "\n",
    "    sph_pwr = 0\n",
    "    phi = 0\n",
    "    return sph_pwr, phi"
   ]
  },
  {
   "cell_type": "code",
   "execution_count": null,
   "metadata": {},
   "outputs": [
    {
     "name": "stdout",
     "output_type": "stream",
     "text": [
      "Intel MKL WARNING: Support of Intel(R) Streaming SIMD Extensions 4.2 (Intel(R) SSE4.2) enabled only processors has been deprecated. Intel oneAPI Math Kernel Library 2025.0 will require Intel(R) Advanced Vector Extensions (Intel(R) AVX) instructions.\n",
      "Intel MKL WARNING: Support of Intel(R) Streaming SIMD Extensions 4.2 (Intel(R) SSE4.2) enabled only processors has been deprecated. Intel oneAPI Math Kernel Library 2025.0 will require Intel(R) Advanced Vector Extensions (Intel(R) AVX) instructions.\n"
     ]
    }
   ],
   "source": [
    "import numpy as np\n",
    "import matplotlib.pyplot as plt\n",
    "import os\n",
    "import scipy\n",
    "import scipy.io as sio\n",
    "import time\n",
    "import utils"
   ]
  },
  {
   "cell_type": "markdown",
   "metadata": {},
   "source": [
    "Once again we will reload the data."
   ]
  },
  {
   "cell_type": "code",
   "execution_count": null,
   "metadata": {},
   "outputs": [],
   "source": [
    "# TODO: Put the *path* to the project folder\n",
    "data_path = r\"/Users/shanbhag/Documents/School/comm-proj-radars/given_data/data_003.mat\"\n",
    "\n",
    "# loading data that is given\n",
    "\"\"\"\n",
    "    raw_data: is the raw radar data (after mixing) of size (num_x_stp x num_rx, num_z_stp, adc_samples)\n",
    "    radar_params: is a dictionary with radar and position parameters: 'sample_rate', 'num_samples', 'slope', 'lm'(lambda), 'num_x_stp', 'num_z_stp', 'num_tx', 'num_rx', 'adc_samples' \n",
    "\"\"\"\n",
    "radar_params, raw_data = utils.load_raw_data(data_path)"
   ]
  },
  {
   "cell_type": "markdown",
   "metadata": {},
   "source": [
    "Here we define the antenna spacing. Take a look and make sure to understand how each antenna is placed."
   ]
  },
  {
   "cell_type": "code",
   "execution_count": null,
   "metadata": {},
   "outputs": [],
   "source": [
    "ant_pos = utils.get_ant_pos_1d(radar_params['num_x_stp'], radar_params['num_rx'])"
   ]
  },
  {
   "cell_type": "markdown",
   "metadata": {},
   "source": [
    "Process the raw data so we have the beat frequency (see lectures). Additionally, you only need to run this on *one* vertical (z) location. So pick one."
   ]
  },
  {
   "cell_type": "code",
   "execution_count": null,
   "metadata": {},
   "outputs": [],
   "source": [
    "# TODO: Process Raw Data for Beamforming \n",
    "beat_freq = 0"
   ]
  },
  {
   "cell_type": "markdown",
   "metadata": {},
   "source": [
    "Define the angles to calculate and run your algorthim below."
   ]
  },
  {
   "cell_type": "code",
   "execution_count": null,
   "metadata": {},
   "outputs": [],
   "source": [
    "# define the azimuth angles (horizontal FOV) that we want to look at \n",
    "phi_s, phi_e = 60, 130\n",
    "phi_res = 1\n",
    "# Run your algorithm here\n",
    "bf_output, phi = beamform_1d(beat_freq, phi_s,phi_e,phi_res,ant_pos)"
   ]
  },
  {
   "cell_type": "markdown",
   "metadata": {},
   "source": [
    "Here is code for plotting the heatmap. If you are not seeing colorful 2D heatmaps as expected, tune the variables *vmin* and *vmax* as those determine the colormap."
   ]
  },
  {
   "cell_type": "code",
   "execution_count": null,
   "metadata": {},
   "outputs": [],
   "source": [
    "# Plot the output from 1D Beamforming (You can change this as you see fit)\n",
    "fig = plt.figure()\n",
    "r_idxs = np.arange(80,180) \n",
    "to_plot = abs(bf_output[:,r_idxs])\n",
    "to_plot = to_plot\n",
    "to_plot = to_plot/np.max(np.reshape(to_plot,(1,-1))) \n",
    "to_plot = to_plot[:,::-1]**2\n",
    "\n",
    "ax0 = fig.add_subplot(111, projection='polar')\n",
    "utils.plot_2d_heatmap(ax0, to_plot, phi, r_idxs, vmin=0, vmax=0.1)\n",
    "ax0.title.set_text('Bird Eye View (Top View)')\n",
    "ax0.set_aspect('equal','box')"
   ]
  }
 ],
 "metadata": {
  "language_info": {
   "name": "python"
  }
 },
 "nbformat": 4,
 "nbformat_minor": 2
}
