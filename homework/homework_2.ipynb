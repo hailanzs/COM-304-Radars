{
 "cells": [
  {
   "cell_type": "markdown",
   "metadata": {},
   "source": [
    "<h1> HW 2: Radar Imaging Part 3a</h1>\n"
   ]
  },
  {
   "cell_type": "markdown",
   "metadata": {},
   "source": [
    "<h3> 3. 3D Imaging using 2D Antenna Array </h3>\n",
    "\n",
    "This task includes two parts. Our goal is to implement radar signal processing for 3D imaging\n",
    "using a 2D antenna array. You will implement two algorithms we taught in the class. \n",
    "\n",
    "<h5> 3.1 Algorithm 1 - Conventional Beam Forming </h5>\n",
    "\n",
    "In this part, we will need to image the scene using Algorithm 1 we taught in class for a 2D antenna array. You will generate the 3D radar heatmap by estimating the\n",
    "reflected signal power from every azimuth angles $\\phi$ - elevation angles $\\theta$ pair. Every azimuth\n",
    "angle and elevation angle, along with the range will pinpoint a 3D voxel in the spherical\n",
    "coordinates. To speed up the alogrithm, you can crop the range bins to be from 100 to 120 instead of using all 512 range bins.\n",
    "The code for this task should be written in the functions *beamform_2d* defined below. We provide you\n",
    "the code to load the radar data in the right format and to plot the 3D heatmap in this\n",
    "file.\n",
    "\n",
    "As results, you need to include the following in your report.\n",
    "1. Generate a 3D heatmap for azimuth angle $\\phi$ between 60 and 130 degrees with a resolution\n",
    "of 1 degree, and elevation angle $\\theta$ between 70 and 110 degrees with a resolution of 1 degrees. The\n",
    "definition for $\\phi$ and $\\theta$ can be found in Fig. 1. Include the top view, side view, and\n",
    "front view projections of the 3D heatmap in the spherical coordinates, as well as a\n",
    "3D point cloud by setting a threshold on the heatmap and selecting the points with a\n",
    "reflection power above this threshold. Examples of this plotting code is shown at the bottom of the file.\n",
    "\n",
    "2. Generate the above 3D heatmaps and point clouds for all data provided. "
   ]
  },
  {
   "cell_type": "markdown",
   "metadata": {},
   "source": [
    "Write your algorithm below."
   ]
  },
  {
   "cell_type": "code",
   "execution_count": null,
   "metadata": {},
   "outputs": [],
   "source": [
    "################# Change the values based on how much of the azimuth angles you want to see and the resolution ##################\n",
    "# Define field of view in degrees that you want to process in theta, phi and range bins\n",
    "def beamform_2d(beat_freq_data, phi_s, phi_e, phi_res, theta_s, theta_e, theta_res, x_idx, z_idx, r_idxs, radar_params):\n",
    "    \"\"\"\n",
    "    Performs 2D beamforming along the azimuth (horizontal) dimension, this results in a bird eye view image.\n",
    "    - beat_freq_data: beat data AKA the range FFT (size: num_x_stps * num_z_stps * num TX * num RX, num ADC samples)\n",
    "    - phi_s: first azimuth angle that you want to start computing \n",
    "    - phi_e: last azimuth angle that you want to compute \n",
    "    - phi_res: resolution of the azimuth angles you want to compute\n",
    "    - theta_s: first elevation angle that you want to start computing \n",
    "    - theta_e: last elevation angle that you want to compute \n",
    "    - theta_res: resolution of the elevation angles you want to compute\n",
    "    - x_locs: x coordinate of antenna locations\n",
    "    - z_locs: z coordinate of antenna locations\n",
    "    - r_idx: range bins to calculate \n",
    "    - radar_parms: radar_params if needed \n",
    "\n",
    "    Returns:\n",
    "    - sph_pwr: beamformed result (size: n_phi, n_theta, n_range)\n",
    "    - phi: array of azimuth angles \n",
    "    - theta: array of elevation angles \n",
    "    \"\"\"\n",
    "    sph_pwr = 0\n",
    "    theta = 0\n",
    "    phi = 0 \n",
    "    return sph_pwr, phi, theta "
   ]
  },
  {
   "cell_type": "code",
   "execution_count": null,
   "metadata": {},
   "outputs": [],
   "source": [
    "\n",
    "import numpy as np\n",
    "import matplotlib.pyplot as plt\n",
    "import os\n",
    "import scipy\n",
    "import scipy.io as sio\n",
    "import time\n",
    "import open3d as o3d\n",
    "import utils "
   ]
  },
  {
   "cell_type": "markdown",
   "metadata": {},
   "source": [
    "Load data."
   ]
  },
  {
   "cell_type": "code",
   "execution_count": null,
   "metadata": {},
   "outputs": [],
   "source": [
    "# TODO: Put the *path* to the project folder\n",
    "data_path = r\"/Users/shanbhag/Documents/School/comm-proj-radars/given_data/data_003.mat\"\n",
    "\n",
    "# loading data that is given\n",
    "\"\"\"\n",
    "    raw_data: is the raw radar data (after mixing) of size (num_x_stp x num_rx, num_z_stp, adc_samples)\n",
    "    radar_params: is a dictionary with radar and position parameters: 'sample_rate', 'num_samples', 'slope', 'lm'(lambda), 'num_x_stp', 'num_z_stp', 'num_tx', 'num_rx', 'adc_samples' \n",
    "\"\"\"\n",
    "radar_params, raw_data = utils.load_raw_data(data_path)"
   ]
  },
  {
   "cell_type": "markdown",
   "metadata": {},
   "source": [
    "Defining antenna positions. "
   ]
  },
  {
   "cell_type": "code",
   "execution_count": null,
   "metadata": {},
   "outputs": [],
   "source": [
    "x_ant_pos, z_pos, x_ant = utils.get_ant_pos_2d(radar_params['num_x_stp'], radar_params['num_z_stp'], radar_params['num_rx']) # this returns x position of rx, z positions of rx and tx, and x position of tx"
   ]
  },
  {
   "cell_type": "markdown",
   "metadata": {},
   "source": [
    "Process raw data for BF algorthim (use all samples now)."
   ]
  },
  {
   "cell_type": "code",
   "execution_count": null,
   "metadata": {},
   "outputs": [],
   "source": [
    "# TODO: reshape raw_data and process beat frequency\n",
    "beat_freq = 0 "
   ]
  },
  {
   "cell_type": "markdown",
   "metadata": {},
   "source": [
    "Define the angles and range bins to run, and run the BF algo."
   ]
  },
  {
   "cell_type": "code",
   "execution_count": null,
   "metadata": {},
   "outputs": [],
   "source": [
    "# define the azimuth angles (horizontal FOV) that we want to look at \n",
    "r_idxs = np.arange(100, 140, 1) # TODO: Change to distance rather than range bins \n",
    "phi_s, phi_e = 60, 130 \n",
    "phi_res = 1\n",
    "theta_s, theta_e = 70,110 \n",
    "theta_res = 1\n",
    "\n",
    "# Run your algorithm here\n",
    "# TODO: input arguments that you choose\n",
    "bf_output1, phi, theta= beamform_2d()"
   ]
  },
  {
   "cell_type": "markdown",
   "metadata": {},
   "source": [
    "Here you should plot the outputs from beamforming."
   ]
  },
  {
   "cell_type": "code",
   "execution_count": null,
   "metadata": {},
   "outputs": [],
   "source": [
    "# Plot the output from 2D Beamforming (You can change this as you see fit)\n",
    "fig = plt.figure(figsize=(20, 7))\n",
    "\n",
    "to_plot = np.sum(abs(bf_output1),axis=-1)\n",
    "to_plot = to_plot/np.max(np.reshape(to_plot,(1,-1))) \n",
    "to_plot = to_plot**2\n",
    "ax0 = fig.add_subplot(131)\n",
    "utils.plot_2d_polar_heatmap(ax0, to_plot, phi, theta, vmin=0, vmax=0.1)\n",
    "ax0.title.set_text('Front View')\n",
    "\n",
    "to_plot = np.sum(abs(bf_output1),axis=1)\n",
    "to_plot = to_plot/np.max(np.reshape(to_plot,(1,-1))) \n",
    "to_plot = to_plot**2\n",
    "ax1 = fig.add_subplot(132,projection = 'polar')\n",
    "utils.plot_2d_heatmap(ax1, to_plot, phi, r_idxs, vmin=0, vmax=0.1)\n",
    "ax1.title.set_text('Bird Eye View (Top View)')\n",
    "\n",
    "to_plot = np.sum(abs(bf_output1),axis=0)\n",
    "to_plot = to_plot/np.max(np.reshape(to_plot,(1,-1))) \n",
    "to_plot = to_plot**2\n",
    "ax2 = fig.add_subplot(133)\n",
    "utils.plot_2d_heatmap(ax1, to_plot, theta, r_idxs, vmin=0, vmax=0.1)\n",
    "ax2.title.set_text('Side View')\n",
    "plt.tight_layout()\n",
    "plt.show()"
   ]
  },
  {
   "cell_type": "markdown",
   "metadata": {},
   "source": [
    "<h1> HW 2: Radar Imaging Part 3b</h1>\n"
   ]
  },
  {
   "cell_type": "markdown",
   "metadata": {},
   "source": [
    "<h5> 3.b Algorithm 3 - Matched Filter </h5>\n",
    "\n",
    "In this part, we will need to image the scene using Algorithm 3 we taught in class for a 2D antenna array. You will generate the 3D radar heatmap by estimating\n",
    "the reflected signal power from every voxel in the 3D cartesian coordinates (x,y,z).\n",
    "The code for this task should be written in the function matched_filter_2d. We provide you\n",
    "the code to load the radar data in the right format and to plot the heatmap in this\n",
    "file. Though the MF output can be 3D, because of compute time, we ask that you just show a single depth slice of the scene making the output 2D.\n",
    "\n",
    "As results, you need to include the following in your report: \n",
    "1. Generate the heatmap for all 3 scenes given\n",
    "in the cartesian coordinates. The space of interest is indicated in Data Details in the google drive. The spatial resolution\n",
    "should be 0.01 for x and z. Plot the front view.\n",
    "\n",
    "2. Compare the heatmaps with the corresponding one from Task 3a, and comment on\n",
    "the differences.\n",
    "\n",
    "Notes: \n",
    "- Running matched filter code in Python can be slow. \n",
    "- And remember to check parameter clim to get reasonable heatmaps. \n"
   ]
  },
  {
   "cell_type": "markdown",
   "metadata": {},
   "source": [
    "Implement your matched filter algortihm below. If you would like to speed up processing time you can try to optimize code --> (eg. Numba, multiprocessing,), additionlly for debugging we recommend processing lower resolution.\n",
    "\n",
    "Additionally, you may move away from a Jupyter Notebook for this task only if you find that optmizing the code requires this. However, please attach the plots in a PDF in addition to plotting the output in your code if you follow this path."
   ]
  },
  {
   "cell_type": "code",
   "execution_count": null,
   "metadata": {},
   "outputs": [],
   "source": [
    "######## 2D Imaging in Cartesian #############\n",
    "def matched_filter_2d(raw_data_2d, num_x_cells, num_z_cells, num_y_cells, x_radar_tx, x_radar_rx, z_radar_tx, z_radar_rx):\n",
    "    \"\"\"\n",
    "    Performs 2D matched filter on the raw data.\n",
    "    - raw_data_2d: raw data  \n",
    "    - num_x_cells: x axis values (azimuth)\n",
    "    - num_z_cells: z axis values (elevation)\n",
    "    - num_y_cells: y axis values (range)\n",
    "    - x_radar_tx: transmitter positions (x) \n",
    "    - x_radar_rx: receiver positions (x)\n",
    "    - z_radar_tx: transmitter positions (z)\n",
    "    - z_radar_rx: receiver positions (z)\n",
    "    \n",
    "    Returns:\n",
    "    - MF_output: matched filter output (size: num_x_cells x num_y_cells  x num_z_cells aka azimuth, depth, elevation)\n",
    "    \"\"\"\n",
    "    MF_output = 0\n",
    "    return MF_output "
   ]
  },
  {
   "cell_type": "code",
   "execution_count": null,
   "metadata": {},
   "outputs": [],
   "source": [
    "import numpy as np\n",
    "import matplotlib.pyplot as plt\n",
    "import os\n",
    "import scipy\n",
    "import scipy.io as sio\n",
    "import time\n",
    "import open3d as o3d\n",
    "import helpers \n",
    "import utils"
   ]
  },
  {
   "cell_type": "markdown",
   "metadata": {},
   "source": [
    "Load data."
   ]
  },
  {
   "cell_type": "code",
   "execution_count": null,
   "metadata": {},
   "outputs": [],
   "source": [
    "# TODO: Put the *path* to the project folder\n",
    "data_path = r\"/Users/shanbhag/Documents/School/comm-proj-radars/given_data/data_003.mat\"\n",
    "\n",
    "# loading data that is given\n",
    "\"\"\"\n",
    "    raw_data: is the raw radar data (after mixing) of size (num_x_stp x num_rx, num_z_stp, adc_samples)\n",
    "    radar_params: is a dictionary with radar and position parameters: 'sample_rate', 'num_samples', 'slope', 'lm'(lambda), 'num_x_stp', 'num_z_stp', 'num_tx', 'num_rx', 'adc_samples' \n",
    "\"\"\"\n",
    "radar_params, raw_data = utils.load_raw_data(data_path)"
   ]
  },
  {
   "cell_type": "markdown",
   "metadata": {},
   "source": [
    "Defining antenna positions."
   ]
  },
  {
   "cell_type": "code",
   "execution_count": null,
   "metadata": {},
   "outputs": [],
   "source": [
    "x_ant_pos, z_ant_pos, x_ant = utils.get_ant_pos_2d(radar_params['num_x_stp'], radar_params['num_z_stp'], radar_params['num_rx']) # this returns x position of rx, z positions of rx and tx, and x position of tx"
   ]
  },
  {
   "cell_type": "markdown",
   "metadata": {},
   "source": [
    "Process raw data for MF algorthim (use all samples now)."
   ]
  },
  {
   "cell_type": "code",
   "execution_count": null,
   "metadata": {},
   "outputs": [],
   "source": [
    "# TODO: reshape raw_data for MF function\n",
    "X = 0"
   ]
  },
  {
   "cell_type": "markdown",
   "metadata": {},
   "source": [
    "Define the x,y,z voxels to calculate and the radars transmitter and receiver positions in x and z. Then run your algorithm. We recommend processing at lower resolution (eg. 0.05) or smaller portions of space for debugging."
   ]
  },
  {
   "cell_type": "code",
   "execution_count": null,
   "metadata": {},
   "outputs": [],
   "source": [
    "# TODO: fill in the missing values below\n",
    "num_x_cells = 0 \n",
    "num_z_cells = 0\n",
    "num_y_cells = 0\n",
    "\n",
    "# transmitters x position is one every lambda (repeat by four to match size of x_radar_rx) and shift by the physical offset on the board\n",
    "x_radar_tx = 0 \n",
    "x_radar_rx = 0  \n",
    "z_radar_tx = 0  \n",
    "z_radar_rx = 0  \n",
    "\n",
    "# Run matched filter algorithm\n",
    "MF_output = matched_filter_2d()"
   ]
  },
  {
   "cell_type": "markdown",
   "metadata": {},
   "source": [
    "Plot your outputs below."
   ]
  },
  {
   "cell_type": "code",
   "execution_count": null,
   "metadata": {},
   "outputs": [],
   "source": [
    "# Plot the output from MF (You can change this as you see fit (this will just plot the front of the object as we are not processing the entire heatmap)\n",
    "fig = plt.figure(figsize=(7, 7))\n",
    "\n",
    "to_plot = np.sum(abs(MF_output),axis=-1)\n",
    "to_plot = to_plot/np.max(np.reshape(to_plot,(1,-1))) \n",
    "to_plot = to_plot**2\n",
    "ax0 = fig.add_subplot(111)\n",
    "utils.plot_2d_heatmap(ax0, to_plot, num_x_cells, num_y_cells, vmin=0, vmax=0.1)\n",
    "ax0.title.set_text('Bird Eye View (Top View)')\n",
    "\n",
    "plt.tight_layout()\n",
    "plt.show()\n"
   ]
  },
  {
   "cell_type": "code",
   "execution_count": null,
   "metadata": {},
   "outputs": [],
   "source": []
  }
 ],
 "metadata": {
  "language_info": {
   "name": "python"
  }
 },
 "nbformat": 4,
 "nbformat_minor": 2
}
